{
 "cells": [
  {
   "cell_type": "markdown",
   "metadata": {},
   "source": [
    "# Title\n",
    "## 1. Who & When\n",
    "작성자: <br>\n",
    "작성일:\n",
    "\n",
    "## 2. What\n",
    "어떤 내용에 대한 것인지 간단하게 요약해주세요.\n",
    "\n",
    "## 3. Why\n",
    "왜 이러한 실험을 했는지 서술해주세요.\n",
    "\n",
    "## 4. How\n",
    "실험 계획을 서술해주세요."
   ]
  },
  {
   "cell_type": "code",
   "execution_count": 4,
   "metadata": {},
   "outputs": [
    {
     "data": {
      "text/html": [
       "<script>\n",
       "\tcode_show=true; \n",
       "\tfunction code_toggle() {\n",
       "\t if (code_show){\n",
       "\t $(\"div.input\").hide();\n",
       "\t } else {\n",
       "\t $(\"div.input\").show();\n",
       "\t }\n",
       "\t code_show = !code_show\n",
       "\t} \n",
       "\t$( document ).ready(code_toggle);\n",
       "\t</script>\n",
       "\tThe raw code for this IPython notebook is by default hidden for easier reading.\n",
       "\tTo toggle on/off the raw code, click <a href=\"javascript:code_toggle()\">here</a>."
      ],
      "text/plain": [
       "<IPython.core.display.HTML object>"
      ]
     },
     "execution_count": 4,
     "metadata": {},
     "output_type": "execute_result"
    }
   ],
   "source": [
    "%load_ext blackcellmagic\n",
    "\n",
    "from IPython.display import HTML\n",
    "\n",
    "def hide_code():\n",
    "\treturn HTML('''<script>\n",
    "\tcode_show=true; \n",
    "\tfunction code_toggle() {\n",
    "\t if (code_show){\n",
    "\t $(\"div.input\").hide();\n",
    "\t } else {\n",
    "\t $(\"div.input\").show();\n",
    "\t }\n",
    "\t code_show = !code_show\n",
    "\t} \n",
    "\t$( document ).ready(code_toggle);\n",
    "\t</script>\n",
    "\tThe raw code for this IPython notebook is by default hidden for easier reading.\n",
    "\tTo toggle on/off the raw code, click <a href=\"javascript:code_toggle()\">here</a>.''')\n",
    "\n",
    "hide_code()"
   ]
  },
  {
   "cell_type": "code",
   "execution_count": 6,
   "metadata": {},
   "outputs": [
    {
     "data": {
      "image/png": "[encoded data removed]",
      "text/plain": [
       "<Figure size 432x288 with 1 Axes>"
      ]
     },
     "metadata": {
      "needs_background": "light"
     },
     "output_type": "display_data"
    },
    {
     "data": {
      "text/html": [
       "<script>\n",
       "\tcode_show=true; \n",
       "\tfunction code_toggle() {\n",
       "\t if (code_show){\n",
       "\t $(\"div.input\").hide();\n",
       "\t } else {\n",
       "\t $(\"div.input\").show();\n",
       "\t }\n",
       "\t code_show = !code_show\n",
       "\t} \n",
       "\t$( document ).ready(code_toggle);\n",
       "\t</script>\n",
       "\tThe raw code for this IPython notebook is by default hidden for easier reading.\n",
       "\tTo toggle on/off the raw code, click <a href=\"javascript:code_toggle()\">here</a>."
      ],
      "text/plain": [
       "<IPython.core.display.HTML object>"
      ]
     },
     "execution_count": 6,
     "metadata": {},
     "output_type": "execute_result"
    }
   ],
   "source": [
    "import matplotlib.pyplot as plt\n",
    "\n",
    "plt.plot([1,2,3], [2,5,8])\n",
    "plt.show()\n",
    "hide_code()"
   ]
  },
  {
   "cell_type": "markdown",
   "metadata": {},
   "source": [
    "# 5. So what\n",
    "실험 결과를 요약해주세요."
   ]
  }
 ],
 "metadata": {
  "interpreter": {
   "hash": "a5c68aff4c4a07eb2fb968bed8a7c5bd0b2453547a17e28a977eec0e67732322"
  },
  "kernelspec": {
   "display_name": "Python 3.8.10 64-bit ('venv': venv)",
   "name": "python3"
  },
  "language_info": {
   "codemirror_mode": {
    "name": "ipython",
    "version": 3
   },
   "file_extension": ".py",
   "mimetype": "text/x-python",
   "name": "python",
   "nbconvert_exporter": "python",
   "pygments_lexer": "ipython3",
   "version": "3.8.10"
  },
  "orig_nbformat": 4
 },
 "nbformat": 4,
 "nbformat_minor": 2
}
