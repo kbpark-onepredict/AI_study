{
 "cells": [
  {
   "cell_type": "markdown",
   "metadata": {},
   "source": [
    "# Title\n",
    "## 1. Who & When\n",
    "작성자: <br>\n",
    "작성일:\n",
    "\n",
    "## 2. What\n",
    "어떤 내용에 대한 것인지 간단하게 요약해주세요.\n",
    "\n",
    "## 3. Why\n",
    "왜 이러한 실험을 했는지 서술해주세요.\n",
    "\n",
    "## 4. How\n",
    "실험 계획을 서술해주세요."
   ]
  },
  {
   "cell_type": "code",
   "execution_count": 2,
   "metadata": {},
   "outputs": [
    {
     "name": "stdout",
     "output_type": "stream",
     "text": [
      "Code Here\n"
     ]
    }
   ],
   "source": [
    "print(\"Code Here\")"
   ]
  },
  {
   "cell_type": "markdown",
   "metadata": {},
   "source": [
    "# 5. So what\n",
    "실험 결과를 요약해주세요."
   ]
  }
 ],
 "metadata": {
  "interpreter": {
   "hash": "a5c68aff4c4a07eb2fb968bed8a7c5bd0b2453547a17e28a977eec0e67732322"
  },
  "kernelspec": {
   "display_name": "Python 3.8.10 64-bit ('venv': venv)",
   "name": "python3"
  },
  "language_info": {
   "codemirror_mode": {
    "name": "ipython",
    "version": 3
   },
   "file_extension": ".py",
   "mimetype": "text/x-python",
   "name": "python",
   "nbconvert_exporter": "python",
   "pygments_lexer": "ipython3",
   "version": "3.8.10"
  },
  "orig_nbformat": 4
 },
 "nbformat": 4,
 "nbformat_minor": 2
}
