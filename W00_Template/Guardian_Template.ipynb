{
 "cells": [
  {
   "cell_type": "markdown",
   "metadata": {},
   "source": [
    "# Title\n",
    "## 1. Who & When\n",
    "작성자: <br>\n",
    "작성일:\n",
    "\n",
    "## 2. What\n",
    "어떤 내용에 대한 것인지 간단하게 요약해주세요.\n",
    "\n",
    "## 3. Why\n",
    "왜 이러한 실험을 했는지 서술해주세요.\n",
    "\n",
    "## 4. How\n",
    "실험 계획을 서술해주세요."
   ]
  },
  {
   "cell_type": "code",
   "execution_count": 7,
   "metadata": {},
   "outputs": [
    {
     "name": "stdout",
     "output_type": "stream",
     "text": [
      "The blackcellmagic extension is already loaded. To reload it, use:\n",
      "  %reload_ext blackcellmagic\n"
     ]
    }
   ],
   "source": [
    "%load_ext blackcellmagic\n",
    "\n",
    "# On the top cell run:\n",
    "from IPython.core.display import display, HTML\n",
    "from IPython.core.magic import register_cell_magic\n",
    "\n",
    "@register_cell_magic\n",
    "def toggle_code(self, cell):\n",
    "    display(HTML('''\n",
    "        <script>code_show=true;\n",
    "        function code_toggle() {\n",
    "            if (code_show) { $('div.input').hide();}\n",
    "            else {$('div.input').show();}\n",
    "            code_show = !code_show\n",
    "        }\n",
    "        $(document).ready(code_toggle);\n",
    "        </script>\n",
    "        <button onClick=\"javascript:code_toggle()\">Toggle code</button>'''\n",
    "    ))\n",
    "    return display(HTML('<p>Click on the button above to show/hide code.</p>'))"
   ]
  },
  {
   "cell_type": "code",
   "execution_count": 8,
   "metadata": {},
   "outputs": [
    {
     "data": {
      "text/html": [
       "\n",
       "        <script>code_show=true;\n",
       "        function code_toggle() {\n",
       "            if (code_show) { $('div.input').hide();}\n",
       "            else {$('div.input').show();}\n",
       "            code_show = !code_show\n",
       "        }\n",
       "        $(document).ready(code_toggle);\n",
       "        </script>\n",
       "        <button onClick=\"javascript:code_toggle()\">Toggle code</button>"
      ],
      "text/plain": [
       "<IPython.core.display.HTML object>"
      ]
     },
     "metadata": {},
     "output_type": "display_data"
    },
    {
     "data": {
      "text/html": [
       "<p>Click on the button above to show/hide code.</p>"
      ],
      "text/plain": [
       "<IPython.core.display.HTML object>"
      ]
     },
     "metadata": {},
     "output_type": "display_data"
    }
   ],
   "source": [
    "%%toggle_code\n",
    "import matplotlib.pyplot as plt\n",
    "\n",
    "plt.plot([1,2,3], [2,5,8])\n",
    "plt.show()\n",
    "hide_code()"
   ]
  },
  {
   "cell_type": "markdown",
   "metadata": {},
   "source": [
    "# 5. So what\n",
    "실험 결과를 요약해주세요."
   ]
  }
 ],
 "metadata": {
  "interpreter": {
   "hash": "a5c68aff4c4a07eb2fb968bed8a7c5bd0b2453547a17e28a977eec0e67732322"
  },
  "kernelspec": {
   "display_name": "Python 3.8.10 64-bit ('venv': venv)",
   "name": "python3"
  },
  "language_info": {
   "codemirror_mode": {
    "name": "ipython",
    "version": 3
   },
   "file_extension": ".py",
   "mimetype": "text/x-python",
   "name": "python",
   "nbconvert_exporter": "python",
   "pygments_lexer": "ipython3",
   "version": "3.8.10"
  },
  "orig_nbformat": 4
 },
 "nbformat": 4,
 "nbformat_minor": 2
}
